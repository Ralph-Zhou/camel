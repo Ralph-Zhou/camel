{
 "cells": [
  {
   "cell_type": "markdown",
   "id": "5c8ebb09",
   "metadata": {},
   "source": [
    "# O1DataGene with CAMEL\n",
    "## experimental version"
   ]
  },
  {
   "cell_type": "code",
   "execution_count": 16,
   "id": "d9a10ea4",
   "metadata": {
    "lines_to_next_cell": 1
   },
   "outputs": [],
   "source": [
    "import os\n",
    "import logging\n",
    "from datetime import datetime\n",
    "from collections import defaultdict\n",
    "from dotenv import load_dotenv\n",
    "import json"
   ]
  },
  {
   "cell_type": "markdown",
   "id": "64df6b57",
   "metadata": {},
   "source": [
    "### Configure logging,create a log file and a console handler"
   ]
  },
  {
   "cell_type": "code",
   "execution_count": 17,
   "id": "04aa3e1d",
   "metadata": {
    "lines_to_next_cell": 1
   },
   "outputs": [],
   "source": [
    "# Configure logging\n",
    "def setup_logger():\n",
    "    if not os.path.exists('logs'):\n",
    "        os.makedirs('logs')\n",
    "    log_filename = f'logs/omega_prm_{datetime.now().strftime(\"%Y%m%d_%H%M%S\")}.log'\n",
    "    formatter = logging.Formatter('%(asctime)s - %(levelname)s - %(message)s')\n",
    "    file_handler = logging.FileHandler(log_filename, encoding='utf-8')\n",
    "    file_handler.setFormatter(formatter)\n",
    "    console_handler = logging.StreamHandler()\n",
    "    console_handler.setFormatter(formatter)\n",
    "    logger = logging.getLogger()\n",
    "    logger.setLevel(logging.INFO)\n",
    "    logger.addHandler(file_handler)\n",
    "    logger.addHandler(console_handler)\n",
    "    return logger"
   ]
  },
  {
   "cell_type": "code",
   "execution_count": 18,
   "id": "f9dfe832",
   "metadata": {},
   "outputs": [],
   "source": [
    "logger = setup_logger()"
   ]
  },
  {
   "cell_type": "code",
   "execution_count": 19,
   "id": "4479765c",
   "metadata": {},
   "outputs": [
    {
     "name": "stderr",
     "output_type": "stream",
     "text": [
      "2024-12-05 20:48:34,200 - INFO - Environment variables loaded\n",
      "2024-12-05 20:48:34,200 - INFO - Environment variables loaded\n"
     ]
    }
   ],
   "source": [
    "# Load environment variables\n",
    "load_dotenv()\n",
    "logger.info(\"Environment variables loaded\")"
   ]
  },
  {
   "cell_type": "markdown",
   "id": "6753df85",
   "metadata": {},
   "source": [
    "### First we will set the OPENAI_API_KEY that will be used to generate the data."
   ]
  },
  {
   "cell_type": "code",
   "execution_count": 22,
   "id": "eaddf030",
   "metadata": {},
   "outputs": [],
   "source": [
    "\n",
    "from getpass import getpass\n",
    "\n",
    "\n",
    "openai_api_key = getpass('Enter your OpenAI API key: ')\n",
    "os.environ[\"OPENAI_API_KEY\"] = openai_api_key"
   ]
  },
  {
   "cell_type": "markdown",
   "id": "71d90d89",
   "metadata": {},
   "source": [
    "### Create a system message to define agent's default role and behaviors."
   ]
  },
  {
   "cell_type": "code",
   "execution_count": 20,
   "id": "c2723957",
   "metadata": {
    "lines_to_next_cell": 1
   },
   "outputs": [],
   "source": [
    "\n",
    "sys_msg = 'You are a genius at slow-thinking data and code'"
   ]
  },
  {
   "cell_type": "markdown",
   "id": "84548223",
   "metadata": {},
   "source": [
    "### Use ModelFactory to set up the backend model for agent, for more detailed model settings"
   ]
  },
  {
   "cell_type": "code",
   "execution_count": 21,
   "id": "91a81223",
   "metadata": {},
   "outputs": [],
   "source": [
    "from camel.models import ModelFactory\n",
    "from camel.types import ModelPlatformType, ModelType\n",
    "from camel.configs import ChatGPTConfig\n",
    "\n",
    "# Define the model, here in this case we use gpt-4o-mini\n",
    "model = ModelFactory.create(\n",
    "    model_platform=ModelPlatformType.OPENAI,\n",
    "    model_type=ModelType.GPT_4O_MINI,\n",
    "    model_config_dict=ChatGPTConfig().as_dict(), # [Optional] the config for model\n",
    ")\n",
    "   "
   ]
  },
  {
   "cell_type": "code",
   "execution_count": 15,
   "id": "ddfd3097",
   "metadata": {},
   "outputs": [],
   "source": [
    "# Initialize AI model by OPENAI_COMPATIBLE_MODEL\n",
    "\n",
    "from camel.models import ModelFactory\n",
    "from camel.types import ModelPlatformType, ModelType\n",
    "\n",
    "\n",
    "sys_msg = 'You are a genius at slow-thinking data and code'\n",
    "model = ModelFactory.create(\n",
    "    model_platform=ModelPlatformType.OPENAI_COMPATIBLE_MODEL,\n",
    "    model_type=\"deepseek-chat\",\n",
    "    api_key=os.environ.get(\"OPENAI_COMPATIBILIY_API_KEY\"),\n",
    "    url=os.environ.get(\"OPENAI_COMPATIBILIY_API_BASE_URL\"),\n",
    "    model_config_dict={\"temperature\": 0.4, \"max_tokens\": 4096},\n",
    ")\n"
   ]
  },
  {
   "cell_type": "markdown",
   "id": "874abf5c",
   "metadata": {},
   "source": [
    "### Set ChatAgent"
   ]
  },
  {
   "cell_type": "code",
   "execution_count": 14,
   "id": "571ac1c7",
   "metadata": {},
   "outputs": [],
   "source": [
    "from camel.agents import ChatAgent\n",
    "chat_agent = ChatAgent(\n",
    "    system_message=sys_msg,\n",
    "    model=model,\n",
    "    message_window_size=10,\n",
    ")"
   ]
  },
  {
   "cell_type": "markdown",
   "id": "4c36c819",
   "metadata": {},
   "source": [
    "### define the class to solve the problem,use monte carlo tree search and binary search to solve the problem,and record the solution process and results\n"
   ]
  },
  {
   "cell_type": "code",
   "execution_count": 7,
   "id": "2dbeb467",
   "metadata": {},
   "outputs": [],
   "source": [
    "class O1DataGene:\n",
    "    def __init__(self, chat_agent, golden_answers=None, search_limit=100):\n",
    "        self.chat_agent = chat_agent\n",
    "        self.golden_answers = golden_answers if golden_answers else {}\n",
    "        self.search_limit = search_limit\n",
    "        self.solution_tree = defaultdict(dict)  # Store correct solution steps\n",
    "        logger.info(\"O1DataGene initialized with search_limit=%d\", search_limit)\n",
    "\n",
    "    def get_answer(self, question, context=\"\"):\n",
    "        \"\"\"\n",
    "        Get the AI's thought process and answer\n",
    "        \"\"\"\n",
    "        prompt = f\"\"\"Please think step by step and solve this problem: {question}\n",
    "        Existing content: {context}\n",
    "        Requirements:\n",
    "        1. Analyze the problem requirements\n",
    "        2. List the steps to solve the problem\n",
    "        3. Execute the solution process\n",
    "        4. Provide the final answer\n",
    "        Please explain the thought process of each step in detail.\n",
    "        \"\"\"\n",
    "        response = self.chat_agent.step(prompt)\n",
    "        answer = response.msgs[0].content\n",
    "        logger.info(\"AI thought process:\\n%s\", answer)\n",
    "        return answer\n",
    "\n",
    "    def verify_answer(self, question, answer):\n",
    "        \"\"\"\n",
    "        Verify if the answer is correct\n",
    "        \"\"\"\n",
    "        prompt = f\"\"\"Please determine if the following two answers express the same meaning:\n",
    "        Question: {question}\n",
    "        Answer 1: {answer}\n",
    "        Answer 2: {self.golden_answers[question]}\n",
    "        Just answer \"True\" or \"False\".\n",
    "        \"\"\"\n",
    "        response = self.chat_agent.step(prompt)\n",
    "        is_correct = response.msgs[0].content.strip().lower() == \"true\"\n",
    "        logger.info(\"Answer verification result: %s\", is_correct)\n",
    "        return is_correct\n",
    "\n",
    "    def monte_carlo_tree_search(self, question, partial_solution=\"\"):\n",
    "        \"\"\"\n",
    "        Generate and verify answers using Monte Carlo Tree Search\n",
    "        \"\"\"\n",
    "        logger.info(\"Starting Monte Carlo Tree Search\")\n",
    "        best_solution = None\n",
    "        best_score = 0\n",
    "        for i in range(self.search_limit):\n",
    "            # Generate new answer\n",
    "            current_solution = self.get_answer(question, partial_solution)\n",
    "            # Verify answer\n",
    "            is_correct = self.verify_answer(question, current_solution)\n",
    "            if is_correct:\n",
    "                logger.info(\"Correct answer found! Stopping search\")\n",
    "                return current_solution, True\n",
    "            # Analyze error, get similarity score\n",
    "            prompt = f\"\"\"Analyze the similarity of this answer to the correct answer (between 0-1):\n",
    "            Question: {question}\n",
    "            Generated answer: {current_solution}\n",
    "            Correct answer: {self.golden_answers[question]}\n",
    "            Just return a number between 0-1.\n",
    "            \"\"\"\n",
    "            response = self.chat_agent.step(prompt)\n",
    "            try:\n",
    "                score = float(response.msgs[0].content.strip())\n",
    "                if score > best_score:\n",
    "                    best_score = score\n",
    "                    best_solution = current_solution\n",
    "                logger.info(\"Current search progress: %d/%d, best score: %.2f\", i+1, self.search_limit, best_score)\n",
    "            except ValueError:\n",
    "                continue\n",
    "        return best_solution, False\n",
    "\n",
    "    def binary_search_error(self, question, solution):\n",
    "        \"\"\"\n",
    "        Use binary search to locate the first error\n",
    "        \"\"\"\n",
    "        logger.info(\"Starting binary search for error location\")\n",
    "        sentences = solution.split('。')\n",
    "        left, right = 0, len(sentences)\n",
    "        while left < right:\n",
    "            mid = (left + right) // 2\n",
    "            partial_solution = '。'.join(sentences[:mid]) + '。'\n",
    "            logger.info(\"Checking solution fragment:\\n%s\", partial_solution)\n",
    "            # Verify if the current part is correct\n",
    "            is_correct = self.verify_answer(question, partial_solution)\n",
    "            if is_correct:\n",
    "                left = mid + 1\n",
    "            else:\n",
    "                right = mid\n",
    "        error_position = left\n",
    "        logger.info(\"First error position found: sentence %d\", error_position)\n",
    "        return error_position\n",
    "\n",
    "    def solve(self, question):\n",
    "        \"\"\"\n",
    "        Main process to solve the problem\n",
    "        \"\"\"\n",
    "        logger.info(\"\\n=== Starting to solve the problem: %s ===\", question)\n",
    "        # 1. Use Monte Carlo Tree Search to generate answer\n",
    "        solution, is_correct = self.monte_carlo_tree_search(question)\n",
    "        if is_correct:\n",
    "            logger.info(\"Problem solved!\")\n",
    "            self.solution_tree[question] = {\n",
    "                \"solution\": solution,\n",
    "                \"is_correct\": True,\n",
    "                \"timestamp\": datetime.now().isoformat()\n",
    "            }\n",
    "            return solution\n",
    "        # 2. If the answer is not completely correct, use binary search to locate the error\n",
    "        error_pos = self.binary_search_error(question, solution)\n",
    "        # 3. Store the correct part\n",
    "        correct_part = '。'.join(solution.split('。')[:error_pos]) + '。'\n",
    "        final_solution = self.get_answer(question, correct_part)\n",
    "        self.solution_tree[question] = {\n",
    "            \"solution\": final_solution,\n",
    "            \"partial_correct\": correct_part,\n",
    "            \"error_position\": error_pos,\n",
    "            \"is_correct\": False,\n",
    "            \"timestamp\": datetime.now().isoformat()\n",
    "        }\n",
    "        logger.info(\"Final answer:\\n%s\", final_solution)\n",
    "        return final_solution\n",
    "\n",
    "    def import_qa_from_json(self, json_file_path):\n",
    "        \"\"\"\n",
    "        Import question and answer data from JSON file\n",
    "        JSON format should be: {\"question1\": \"answer1\", \"question2\": \"answer2\", ...}\n",
    "        \"\"\"\n",
    "        try:\n",
    "            with open(json_file_path, 'r', encoding='utf-8') as f:\n",
    "                qa_data = json.load(f)\n",
    "            # Update golden_answers\n",
    "            self.golden_answers.update(qa_data)\n",
    "            logger.info(f\"Successfully imported {len(qa_data)} QA pairs from {json_file_path}\")\n",
    "            return True\n",
    "        except Exception as e:\n",
    "            logger.error(f\"Error importing JSON data: {str(e)}\")\n",
    "            return False\n",
    "\n",
    "    def export_solutions(self, filepath='solutions.json'):\n",
    "        \"\"\"\n",
    "        Export the solution process and results to a JSON file\n",
    "        \"\"\"\n",
    "        export_data = {\n",
    "            \"solutions\": self.solution_tree,\n",
    "            \"golden_answers\": self.golden_answers,\n",
    "            \"export_time\": datetime.now().isoformat()\n",
    "        }\n",
    "        try:\n",
    "            with open(filepath, 'w', encoding='utf-8') as f:\n",
    "                json.dump(export_data, f, ensure_ascii=False, indent=2)\n",
    "            logger.info(f\"Solutions exported successfully to {filepath}\")\n",
    "        except Exception as e:\n",
    "            logger.error(f\"Error exporting solutions: {str(e)}\")"
   ]
  },
  {
   "cell_type": "markdown",
   "id": "7f7c31c9",
   "metadata": {},
   "source": [
    "### Load Q&A data from a JSON file"
   ]
  },
  {
   "cell_type": "code",
   "execution_count": 8,
   "id": "b8ad1420",
   "metadata": {},
   "outputs": [],
   "source": [
    "def load_qa_data(file_path):\n",
    "    \"\"\"Load Q&A data from a JSON file\"\"\"\n",
    "    with open(file_path, 'r', encoding='utf-8') as f:\n",
    "        return json.load(f)"
   ]
  },
  {
   "cell_type": "code",
   "execution_count": 9,
   "id": "dd5bebba",
   "metadata": {},
   "outputs": [],
   "source": [
    "# Load JSON data\n",
    "qa_data = load_qa_data('qa_data.json')"
   ]
  },
  {
   "cell_type": "markdown",
   "id": "52164bff",
   "metadata": {},
   "source": [
    "### Create an instance of O1DataGene"
   ]
  },
  {
   "cell_type": "code",
   "execution_count": 10,
   "id": "58f17c1e",
   "metadata": {},
   "outputs": [
    {
     "name": "stderr",
     "output_type": "stream",
     "text": [
      "2024-12-05 20:23:35,888 - INFO - O1DataGene initialized with search_limit=100\n"
     ]
    }
   ],
   "source": [
    "# Create an instance of O1DataGene\n",
    "omega = O1DataGene(chat_agent, golden_answers=qa_data)"
   ]
  },
  {
   "cell_type": "code",
   "execution_count": 11,
   "id": "92c12a72",
   "metadata": {},
   "outputs": [],
   "source": [
    "# Record generated answers\n",
    "generated_answers = {}"
   ]
  },
  {
   "cell_type": "markdown",
   "id": "0c0c6ce2",
   "metadata": {},
   "source": [
    "### Test Q&A"
   ]
  },
  {
   "cell_type": "code",
   "execution_count": 12,
   "id": "1dcfe528",
   "metadata": {},
   "outputs": [
    {
     "name": "stderr",
     "output_type": "stream",
     "text": [
      "2024-12-05 20:23:36,088 - INFO - HTTP Request: POST https://api.deepseek.com/chat/completions \"HTTP/1.1 200 OK\"\n"
     ]
    },
    {
     "name": "stdout",
     "output_type": "stream",
     "text": [
      "\n",
      "Question: What is the coefficient of $x^2y^6$ in the expansion of $\\left(\\frac{3}{5}x-\\frac{y}{2}\\right)^8$?  Express your answer as a common fraction\n"
     ]
    },
    {
     "name": "stderr",
     "output_type": "stream",
     "text": [
      "2024-12-05 20:24:30,175 - INFO - AI thought process:\n",
      "### Step 1: Analyze the Problem Requirements\n",
      "\n",
      "The problem requires us to find the coefficient of \\(x^2y^6\\) in the expansion of \\(\\left(\\frac{3}{5}x - \\frac{y}{2}\\right)^8\\). This is a binomial expansion problem where we need to identify the specific term that contains \\(x^2y^6\\).\n",
      "\n",
      "### Step 2: List the Steps to Solve the Problem\n",
      "\n",
      "1. **Understand the Binomial Theorem**: The binomial theorem states that \\((a + b)^n\\) expands to:\n",
      "   \\[\n",
      "   \\sum_{k=0}^{n} \\binom{n}{k} a^{n-k} b^k\n",
      "   \\]\n",
      "   Here, \\(a = \\frac{3}{5}x\\), \\(b = -\\frac{y}{2}\\), and \\(n = 8\\).\n",
      "\n",
      "2. **Identify the General Term**: The general term in the expansion is:\n",
      "   \\[\n",
      "   \\binom{8}{k} \\left(\\frac{3}{5}x\\right)^{8-k} \\left(-\\frac{y}{2}\\right)^k\n",
      "   \\]\n",
      "\n",
      "3. **Set Up the Condition for \\(x^2y^6\\)**: We need the term where the exponents of \\(x\\) and \\(y\\) match \\(2\\) and \\(6\\) respectively. This gives us:\n",
      "   \\[\n",
      "   (8-k) = 2 \\quad \\text{and} \\quad k = 6\n",
      "   \\]\n",
      "\n",
      "4. **Solve for \\(k\\)**: From the condition \\(k = 6\\), we can verify that \\(8 - k = 2\\) holds true.\n",
      "\n",
      "5. **Substitute \\(k = 6\\) into the General Term**: Substitute \\(k = 6\\) into the general term to find the specific term containing \\(x^2y^6\\).\n",
      "\n",
      "6. **Calculate the Coefficient**: Simplify the term to isolate the coefficient of \\(x^2y^6\\).\n",
      "\n",
      "### Step 3: Execute the Solution Process\n",
      "\n",
      "1. **General Term with \\(k = 6\\)**:\n",
      "   \\[\n",
      "   \\binom{8}{6} \\left(\\frac{3}{5}x\\right)^{8-6} \\left(-\\frac{y}{2}\\right)^6\n",
      "   \\]\n",
      "   Simplifies to:\n",
      "   \\[\n",
      "   \\binom{8}{6} \\left(\\frac{3}{5}x\\right)^2 \\left(-\\frac{y}{2}\\right)^6\n",
      "   \\]\n",
      "\n",
      "2. **Simplify the Exponents**:\n",
      "   \\[\n",
      "   \\binom{8}{6} \\left(\\frac{3}{5}\\right)^2 x^2 \\left(-\\frac{y}{2}\\right)^6\n",
      "   \\]\n",
      "   \\[\n",
      "   \\binom{8}{6} \\left(\\frac{3}{5}\\right)^2 x^2 \\left(-\\frac{1}{2}\\right)^6 y^6\n",
      "   \\]\n",
      "\n",
      "3. **Calculate the Binomial Coefficient**:\n",
      "   \\[\n",
      "   \\binom{8}{6} = \\binom{8}{2} = \\frac{8 \\times 7}{2 \\times 1} = 28\n",
      "   \\]\n",
      "\n",
      "4. **Calculate the Fractional Coefficients**:\n",
      "   \\[\n",
      "   \\left(\\frac{3}{5}\\right)^2 = \\frac{9}{25}\n",
      "   \\]\n",
      "   \\[\n",
      "   \\left(-\\frac{1}{2}\\right)^6 = \\frac{1}{64}\n",
      "   \\]\n",
      "\n",
      "5. **Combine All Coefficients**:\n",
      "   \\[\n",
      "   28 \\times \\frac{9}{25} \\times \\frac{1}{64}\n",
      "   \\]\n",
      "   \\[\n",
      "   = 28 \\times \\frac{9}{1600}\n",
      "   \\]\n",
      "   \\[\n",
      "   = \\frac{252}{1600}\n",
      "   \\]\n",
      "   \\[\n",
      "   = \\frac{63}{400}\n",
      "   \\]\n",
      "\n",
      "### Step 4: Provide the Final Answer\n",
      "\n",
      "The coefficient of \\(x^2y^6\\) in the expansion of \\(\\left(\\frac{3}{5}x - \\frac{y}{2}\\right)^8\\) is:\n",
      "\\[\n",
      "\\boxed{\\frac{63}{400}}\n",
      "\\]\n",
      "2024-12-05 20:24:30,277 - INFO - HTTP Request: POST https://api.deepseek.com/chat/completions \"HTTP/1.1 200 OK\"\n"
     ]
    },
    {
     "name": "stdout",
     "output_type": "stream",
     "text": [
      "AI's thought process and answer:\n",
      "### Step 1: Analyze the Problem Requirements\n",
      "\n",
      "The problem requires us to find the coefficient of \\(x^2y^6\\) in the expansion of \\(\\left(\\frac{3}{5}x - \\frac{y}{2}\\right)^8\\). This is a binomial expansion problem where we need to identify the specific term that contains \\(x^2y^6\\).\n",
      "\n",
      "### Step 2: List the Steps to Solve the Problem\n",
      "\n",
      "1. **Understand the Binomial Theorem**: The binomial theorem states that \\((a + b)^n\\) expands to:\n",
      "   \\[\n",
      "   \\sum_{k=0}^{n} \\binom{n}{k} a^{n-k} b^k\n",
      "   \\]\n",
      "   Here, \\(a = \\frac{3}{5}x\\), \\(b = -\\frac{y}{2}\\), and \\(n = 8\\).\n",
      "\n",
      "2. **Identify the General Term**: The general term in the expansion is:\n",
      "   \\[\n",
      "   \\binom{8}{k} \\left(\\frac{3}{5}x\\right)^{8-k} \\left(-\\frac{y}{2}\\right)^k\n",
      "   \\]\n",
      "\n",
      "3. **Set Up the Condition for \\(x^2y^6\\)**: We need the term where the exponents of \\(x\\) and \\(y\\) match \\(2\\) and \\(6\\) respectively. This gives us:\n",
      "   \\[\n",
      "   (8-k) = 2 \\quad \\text{and} \\quad k = 6\n",
      "   \\]\n",
      "\n",
      "4. **Solve for \\(k\\)**: From the condition \\(k = 6\\), we can verify that \\(8 - k = 2\\) holds true.\n",
      "\n",
      "5. **Substitute \\(k = 6\\) into the General Term**: Substitute \\(k = 6\\) into the general term to find the specific term containing \\(x^2y^6\\).\n",
      "\n",
      "6. **Calculate the Coefficient**: Simplify the term to isolate the coefficient of \\(x^2y^6\\).\n",
      "\n",
      "### Step 3: Execute the Solution Process\n",
      "\n",
      "1. **General Term with \\(k = 6\\)**:\n",
      "   \\[\n",
      "   \\binom{8}{6} \\left(\\frac{3}{5}x\\right)^{8-6} \\left(-\\frac{y}{2}\\right)^6\n",
      "   \\]\n",
      "   Simplifies to:\n",
      "   \\[\n",
      "   \\binom{8}{6} \\left(\\frac{3}{5}x\\right)^2 \\left(-\\frac{y}{2}\\right)^6\n",
      "   \\]\n",
      "\n",
      "2. **Simplify the Exponents**:\n",
      "   \\[\n",
      "   \\binom{8}{6} \\left(\\frac{3}{5}\\right)^2 x^2 \\left(-\\frac{y}{2}\\right)^6\n",
      "   \\]\n",
      "   \\[\n",
      "   \\binom{8}{6} \\left(\\frac{3}{5}\\right)^2 x^2 \\left(-\\frac{1}{2}\\right)^6 y^6\n",
      "   \\]\n",
      "\n",
      "3. **Calculate the Binomial Coefficient**:\n",
      "   \\[\n",
      "   \\binom{8}{6} = \\binom{8}{2} = \\frac{8 \\times 7}{2 \\times 1} = 28\n",
      "   \\]\n",
      "\n",
      "4. **Calculate the Fractional Coefficients**:\n",
      "   \\[\n",
      "   \\left(\\frac{3}{5}\\right)^2 = \\frac{9}{25}\n",
      "   \\]\n",
      "   \\[\n",
      "   \\left(-\\frac{1}{2}\\right)^6 = \\frac{1}{64}\n",
      "   \\]\n",
      "\n",
      "5. **Combine All Coefficients**:\n",
      "   \\[\n",
      "   28 \\times \\frac{9}{25} \\times \\frac{1}{64}\n",
      "   \\]\n",
      "   \\[\n",
      "   = 28 \\times \\frac{9}{1600}\n",
      "   \\]\n",
      "   \\[\n",
      "   = \\frac{252}{1600}\n",
      "   \\]\n",
      "   \\[\n",
      "   = \\frac{63}{400}\n",
      "   \\]\n",
      "\n",
      "### Step 4: Provide the Final Answer\n",
      "\n",
      "The coefficient of \\(x^2y^6\\) in the expansion of \\(\\left(\\frac{3}{5}x - \\frac{y}{2}\\right)^8\\) is:\n",
      "\\[\n",
      "\\boxed{\\frac{63}{400}}\n",
      "\\]\n"
     ]
    },
    {
     "name": "stderr",
     "output_type": "stream",
     "text": [
      "2024-12-05 20:24:30,898 - INFO - Answer verification result: True\n"
     ]
    },
    {
     "name": "stdout",
     "output_type": "stream",
     "text": [
      "Answer verification result: Correct\n",
      "--------------------------------------------------\n",
      "\n",
      "Question: how many r in strawberry?\n"
     ]
    },
    {
     "name": "stderr",
     "output_type": "stream",
     "text": [
      "2024-12-05 20:24:31,294 - INFO - HTTP Request: POST https://api.deepseek.com/chat/completions \"HTTP/1.1 200 OK\"\n",
      "2024-12-05 20:24:51,969 - INFO - AI thought process:\n",
      "### Step 1: Analyze the Problem Requirements\n",
      "\n",
      "The problem requires us to count the number of times the letter \"r\" appears in the word \"strawberry\". This is a straightforward counting problem where we need to identify and tally the occurrences of the letter \"r\" in the given word.\n",
      "\n",
      "### Step 2: List the Steps to Solve the Problem\n",
      "\n",
      "1. **Identify the Word**: The word given is \"strawberry\".\n",
      "2. **Count the Occurrences of \"r\"**: Go through each letter in the word and count how many times \"r\" appears.\n",
      "3. **Summarize the Count**: Provide the total count of \"r\" in the word.\n",
      "\n",
      "### Step 3: Execute the Solution Process\n",
      "\n",
      "1. **Identify the Word**: The word is \"strawberry\".\n",
      "2. **Count the Occurrences of \"r\"**:\n",
      "   - The first letter is \"s\".\n",
      "   - The second letter is \"t\".\n",
      "   - The third letter is \"r\".\n",
      "   - The fourth letter is \"a\".\n",
      "   - The fifth letter is \"w\".\n",
      "   - The sixth letter is \"b\".\n",
      "   - The seventh letter is \"e\".\n",
      "   - The eighth letter is \"r\".\n",
      "   - The ninth letter is \"r\".\n",
      "   - The tenth letter is \"y\".\n",
      "\n",
      "   From the above, we see that \"r\" appears in the third, eighth, and ninth positions.\n",
      "\n",
      "3. **Summarize the Count**: The letter \"r\" appears 3 times in the word \"strawberry\".\n",
      "\n",
      "### Step 4: Provide the Final Answer\n",
      "\n",
      "The number of \"r\" in \"strawberry\" is:\n",
      "\\[\n",
      "\\boxed{3}\n",
      "\\]\n",
      "2024-12-05 20:24:52,080 - INFO - HTTP Request: POST https://api.deepseek.com/chat/completions \"HTTP/1.1 200 OK\"\n"
     ]
    },
    {
     "name": "stdout",
     "output_type": "stream",
     "text": [
      "AI's thought process and answer:\n",
      "### Step 1: Analyze the Problem Requirements\n",
      "\n",
      "The problem requires us to count the number of times the letter \"r\" appears in the word \"strawberry\". This is a straightforward counting problem where we need to identify and tally the occurrences of the letter \"r\" in the given word.\n",
      "\n",
      "### Step 2: List the Steps to Solve the Problem\n",
      "\n",
      "1. **Identify the Word**: The word given is \"strawberry\".\n",
      "2. **Count the Occurrences of \"r\"**: Go through each letter in the word and count how many times \"r\" appears.\n",
      "3. **Summarize the Count**: Provide the total count of \"r\" in the word.\n",
      "\n",
      "### Step 3: Execute the Solution Process\n",
      "\n",
      "1. **Identify the Word**: The word is \"strawberry\".\n",
      "2. **Count the Occurrences of \"r\"**:\n",
      "   - The first letter is \"s\".\n",
      "   - The second letter is \"t\".\n",
      "   - The third letter is \"r\".\n",
      "   - The fourth letter is \"a\".\n",
      "   - The fifth letter is \"w\".\n",
      "   - The sixth letter is \"b\".\n",
      "   - The seventh letter is \"e\".\n",
      "   - The eighth letter is \"r\".\n",
      "   - The ninth letter is \"r\".\n",
      "   - The tenth letter is \"y\".\n",
      "\n",
      "   From the above, we see that \"r\" appears in the third, eighth, and ninth positions.\n",
      "\n",
      "3. **Summarize the Count**: The letter \"r\" appears 3 times in the word \"strawberry\".\n",
      "\n",
      "### Step 4: Provide the Final Answer\n",
      "\n",
      "The number of \"r\" in \"strawberry\" is:\n",
      "\\[\n",
      "\\boxed{3}\n",
      "\\]\n"
     ]
    },
    {
     "name": "stderr",
     "output_type": "stream",
     "text": [
      "2024-12-05 20:24:52,637 - INFO - Answer verification result: True\n"
     ]
    },
    {
     "name": "stdout",
     "output_type": "stream",
     "text": [
      "Answer verification result: Correct\n",
      "--------------------------------------------------\n"
     ]
    }
   ],
   "source": [
    "# Test Q&A\n",
    "for question in qa_data.keys():\n",
    "    print(f\"\\nQuestion: {question}\")\n",
    "    \n",
    "    # Get AI's thought process and answer\n",
    "    answer = omega.get_answer(question)\n",
    "    generated_answers[question] = answer\n",
    "    print(f\"AI's thought process and answer:\\n{answer}\")\n",
    "    \n",
    "    # Verify the answer\n",
    "    is_correct = omega.verify_answer(question, answer)\n",
    "    print(f\"Answer verification result: {'Correct' if is_correct else 'Incorrect'}\")\n",
    "    print(\"-\" * 50)"
   ]
  },
  {
   "cell_type": "markdown",
   "id": "6e7ffbf8",
   "metadata": {},
   "source": [
    "### Export the generated answers to a JSON file\n"
   ]
  },
  {
   "cell_type": "code",
   "execution_count": 13,
   "id": "8e67e644",
   "metadata": {},
   "outputs": [
    {
     "name": "stdout",
     "output_type": "stream",
     "text": [
      "The generated answers have been exported to: generated_answers_20241205_202452.json\n"
     ]
    }
   ],
   "source": [
    "simplified_output = {\n",
    "    'timestamp': datetime.now().isoformat(),\n",
    "    'qa_pairs': generated_answers\n",
    "}\n",
    "simplified_file = f'generated_answers_{datetime.now().strftime(\"%Y%m%d_%H%M%S\")}.json'\n",
    "with open(simplified_file, 'w', encoding='utf-8') as f:\n",
    "    json.dump(simplified_output, f, ensure_ascii=False, indent=2)\n",
    "print(f\"The generated answers have been exported to: {simplified_file}\")"
   ]
  }
 ],
 "metadata": {
  "jupytext": {
   "cell_metadata_filter": "-all",
   "main_language": "python",
   "notebook_metadata_filter": "-all"
  },
  "kernelspec": {
   "display_name": "base",
   "language": "python",
   "name": "python3"
  },
  "language_info": {
   "codemirror_mode": {
    "name": "ipython",
    "version": 3
   },
   "file_extension": ".py",
   "mimetype": "text/x-python",
   "name": "python",
   "nbconvert_exporter": "python",
   "pygments_lexer": "ipython3",
   "version": "3.11.5"
  }
 },
 "nbformat": 4,
 "nbformat_minor": 5
}
